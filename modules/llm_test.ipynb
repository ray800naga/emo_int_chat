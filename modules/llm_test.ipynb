{
 "cells": [
  {
   "cell_type": "code",
   "execution_count": 1,
   "metadata": {},
   "outputs": [
    {
     "data": {
      "application/vnd.jupyter.widget-view+json": {
       "model_id": "ef0a6aef30e04fc38c067f96433aec13",
       "version_major": 2,
       "version_minor": 0
      },
      "text/plain": [
       "Loading checkpoint shards:   0%|          | 0/3 [00:00<?, ?it/s]"
      ]
     },
     "metadata": {},
     "output_type": "display_data"
    }
   ],
   "source": [
    "import torch\n",
    "from transformers import AutoTokenizer, AutoModelForCausalLM\n",
    "\n",
    "model_name = \"/workspace/Emotion_Intent_Chat/Swallow-7b-instruct-v0.1\"\n",
    "model = AutoModelForCausalLM.from_pretrained(model_name, torch_dtype=torch.bfloat16, device_map=\"auto\")\n",
    "tokenizer = AutoTokenizer.from_pretrained(model_name)\n",
    "\n",
    "device = \"cuda\"\n"
   ]
  },
  {
   "cell_type": "code",
   "execution_count": 15,
   "metadata": {},
   "outputs": [
    {
     "name": "stdout",
     "output_type": "stream",
     "text": [
      "<s>[INST] <<SYS>>\n",
      "あなたは親身に悩みを聞くカウンセラーです。\n",
      "<</SYS>>\n",
      "\n",
      "今日仕事でミスしちゃって、 [/INST] それは大変でしたね。</s>[INST] 明日職場に顔を出したくない気分ですね。 [/INST] それは理解できます。ミスをした後、仕事に行くことがストレスになることもあります。ですが、仕事は生きていくための重要な部分でもありますので、少しでも気を取り直して、明日は少しずつ仕事を再開してみてください。もちろん、自分のペースで大丈夫です。\n",
      "\n",
      "もし、明日も気分が悪い場合は、上司や同僚に相談してみてください。彼らはあなたの状況を理解してくれるでしょうし、彼らのサポートも受けられるかもしれません。\n",
      "\n",
      "また、ストレスを解消する\n"
     ]
    }
   ],
   "source": [
    "\n",
    "messages = [\n",
    "    {\"role\": \"system\", \"content\": \"あなたは親身に悩みを聞くカウンセラーです。\"},\n",
    "    {\"role\": \"user\", \"content\": \"今日仕事でミスしちゃって、\"},\n",
    "    {\"role\": \"assistant\", \"content\": \"それは大変でしたね。\"},\n",
    "    {\"role\": \"user\", \"content\": \"明日職場に顔を出したくない気分ですね。\"}\n",
    "]\n",
    "\n",
    "encodeds = tokenizer.apply_chat_template(messages, return_tensors=\"pt\")\n",
    "\n",
    "model_inputs = encodeds.to(device)\n",
    "model.to(device)\n",
    "\n",
    "generated_ids = model.generate(model_inputs, max_new_tokens=128, do_sample=True)\n",
    "decoded = tokenizer.batch_decode(generated_ids)\n",
    "print(decoded[0])\n"
   ]
  },
  {
   "cell_type": "code",
   "execution_count": null,
   "metadata": {},
   "outputs": [],
   "source": []
  },
  {
   "cell_type": "code",
   "execution_count": null,
   "metadata": {},
   "outputs": [],
   "source": []
  }
 ],
 "metadata": {
  "kernelspec": {
   "display_name": "trl",
   "language": "python",
   "name": "python3"
  },
  "language_info": {
   "codemirror_mode": {
    "name": "ipython",
    "version": 3
   },
   "file_extension": ".py",
   "mimetype": "text/x-python",
   "name": "python",
   "nbconvert_exporter": "python",
   "pygments_lexer": "ipython3",
   "version": "3.10.14"
  }
 },
 "nbformat": 4,
 "nbformat_minor": 2
}
